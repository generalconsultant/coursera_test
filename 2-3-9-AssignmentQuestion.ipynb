{
  "nbformat": 4,
  "nbformat_minor": 0,
  "metadata": {
    "accelerator": "GPU",
    "colab": {
      "name": "2-3-9-Question.ipynb",
      "provenance": []
    },
    "kernelspec": {
      "display_name": "Python 3",
      "language": "python",
      "name": "python3"
    },
    "language_info": {
      "codemirror_mode": {
        "name": "ipython",
        "version": 3
      },
      "file_extension": ".py",
      "mimetype": "text/x-python",
      "name": "python",
      "nbconvert_exporter": "python",
      "pygments_lexer": "ipython3",
      "version": "3.6.9"
    }
  },
  "cells": [
    {
      "cell_type": "markdown",
      "metadata": {
        "id": "iiVBUpuHXEtw"
      },
      "source": [
        "# Create a CNN to classify Cifar-10\n",
        "\n",
        "Learn about Cifar-10 here: https://www.cs.toronto.edu/~kriz/cifar.html\n",
        "\n",
        "In class you saw how to build a Convolutional Neural Network that classified Fashion MNIST. Take what you learned to build a CNN that recognizes the 10 classes of CIFAR. It will be a similar network, but there are some key differences you'll need to take into account.\n",
        "\n",
        "First, while MNIST were 28x28 monochome images (1 color channel), CIFAR are 32x32 color images (3 color channels).\n",
        "\n",
        "Second, MNIST images are simple, containing just the object, centered in the image, with no background. CIFAR ones can have the object with a background -- for example airplanes might have a cloudy sky behind them! As such you should expect your accuracy to be a bit lower. \n",
        "\n",
        "We start by setting up the problem for you."
      ]
    },
    {
      "cell_type": "code",
      "metadata": {
        "id": "6OQ_tVTaU3oo",
        "outputId": "90693701-57d4-4655-e483-22b08df57ade",
        "colab": {
          "base_uri": "https://localhost:8080/"
        }
      },
      "source": [
        "import tensorflow as tf\n",
        "\n",
        "from tensorflow.keras import datasets, layers, models\n",
        "import matplotlib.pyplot as plt\n",
        "\n",
        "(train_images, train_labels), (test_images, test_labels) = datasets.cifar10.load_data()\n",
        "\n",
        "# Normalize pixel values to be between 0 and 1\n",
        "train_images = train_images / 255.0\n",
        "test_images = test_images / 255.0"
      ],
      "execution_count": 2,
      "outputs": [
        {
          "output_type": "stream",
          "text": [
            "Downloading data from https://www.cs.toronto.edu/~kriz/cifar-10-python.tar.gz\n",
            "170500096/170498071 [==============================] - 4s 0us/step\n"
          ],
          "name": "stdout"
        }
      ]
    },
    {
      "cell_type": "markdown",
      "metadata": {
        "id": "83mPHTMV4PET"
      },
      "source": [
        "We then definte some of the model for you but leave most of it for you to fill in! \n",
        "\n",
        "*A hint: your model may want to learn some high level features and then classify them.*"
      ]
    },
    {
      "cell_type": "code",
      "metadata": {
        "id": "law2hNzdVA16"
      },
      "source": [
        "FIRST_LAYER = tf.keras.layers.Conv2D(64, (3,3), activation='relu', input_shape=(32, 32, 3))\n",
        "HIDDEN_LAYER_TYPE_1 = tf.keras.layers.MaxPooling2D(2, 2)\n",
        "HIDDEN_LAYER_TYPE_2 = tf.keras.layers.Conv2D(64, (3,3), activation='relu')\n",
        "HIDDEN_LAYER_TYPE_3 = tf.keras.layers.MaxPooling2D(2,2)\n",
        "HIDDEN_LAYER_TYPE_4 = tf.keras.layers.Flatten()\n",
        "HIDDEN_LAYER_TYPE_5 = tf.keras.layers.Dense(20, activation='relu')\n",
        "LAST_LAYER = tf.keras.layers.Dense(10, activation='softmax')\n",
        "\n",
        "model = models.Sequential([\n",
        "       FIRST_LAYER,\n",
        "       HIDDEN_LAYER_TYPE_1,\n",
        "       HIDDEN_LAYER_TYPE_2,\n",
        "       HIDDEN_LAYER_TYPE_3,\n",
        "       HIDDEN_LAYER_TYPE_4,\n",
        "       layers.Flatten(),\n",
        "       HIDDEN_LAYER_TYPE_5,\n",
        "       LAST_LAYER,\n",
        "])"
      ],
      "execution_count": 3,
      "outputs": []
    },
    {
      "cell_type": "markdown",
      "metadata": {
        "id": "zUqW5cls4PEV"
      },
      "source": [
        "You then need to define loss function. And you can then train your model. Once training is done you'll see a plot of training and validation accuracy. You'll know you have a reasonable model with a reasonable loss funciton if your final training accuracy ends up in the 70s (or possibly higher).\n",
        "\n",
        "*A hint: your model may want to learn different categories.*"
      ]
    },
    {
      "cell_type": "code",
      "metadata": {
        "id": "Dxq2JU7dVIEX",
        "outputId": "b0573d7d-6efa-4660-eceb-4dd92fb5119b",
        "colab": {
          "base_uri": "https://localhost:8080/",
          "height": 990
        }
      },
      "source": [
        "LOSS = 'sparse_categorical_crossentropy'\n",
        "NUM_EPOCHS = 20 #You can change this value if you like to experiment with it to get better accuracy\n",
        "\n",
        "# Compile the model\n",
        "model.compile(optimizer='sgd',\n",
        "              loss=LOSS,\n",
        "              metrics=['accuracy'])\n",
        "\n",
        "# Fit the model\n",
        "history = model.fit(train_images, train_labels, epochs=NUM_EPOCHS, \n",
        "                    validation_data=(test_images, test_labels))\n",
        "\n",
        "# summarize history for accuracy\n",
        "plt.plot(history.history['accuracy'])\n",
        "plt.plot(history.history['val_accuracy'])\n",
        "plt.title('model accuracy')\n",
        "plt.ylabel('accuracy')\n",
        "plt.xlabel('epoch')\n",
        "plt.legend(['train', 'test'], loc='upper left')\n",
        "plt.xlim([0,NUM_EPOCHS])\n",
        "plt.ylim([0.4,1.0])\n",
        "plt.show()"
      ],
      "execution_count": 4,
      "outputs": [
        {
          "output_type": "stream",
          "text": [
            "Epoch 1/20\n",
            "1563/1563 [==============================] - 37s 4ms/step - loss: 2.1412 - accuracy: 0.2137 - val_loss: 1.9308 - val_accuracy: 0.3017\n",
            "Epoch 2/20\n",
            "1563/1563 [==============================] - 6s 4ms/step - loss: 1.7479 - accuracy: 0.3732 - val_loss: 1.6830 - val_accuracy: 0.3922\n",
            "Epoch 3/20\n",
            "1563/1563 [==============================] - 5s 3ms/step - loss: 1.5071 - accuracy: 0.4562 - val_loss: 1.4629 - val_accuracy: 0.4656\n",
            "Epoch 4/20\n",
            "1563/1563 [==============================] - 5s 3ms/step - loss: 1.3902 - accuracy: 0.5049 - val_loss: 1.4841 - val_accuracy: 0.4739\n",
            "Epoch 5/20\n",
            "1563/1563 [==============================] - 5s 3ms/step - loss: 1.3104 - accuracy: 0.5365 - val_loss: 1.2760 - val_accuracy: 0.5464\n",
            "Epoch 6/20\n",
            "1563/1563 [==============================] - 5s 3ms/step - loss: 1.2442 - accuracy: 0.5596 - val_loss: 1.3862 - val_accuracy: 0.5145\n",
            "Epoch 7/20\n",
            "1563/1563 [==============================] - 6s 4ms/step - loss: 1.1855 - accuracy: 0.5831 - val_loss: 1.2376 - val_accuracy: 0.5604\n",
            "Epoch 8/20\n",
            "1563/1563 [==============================] - 6s 4ms/step - loss: 1.1333 - accuracy: 0.6032 - val_loss: 1.1726 - val_accuracy: 0.5791\n",
            "Epoch 9/20\n",
            "1563/1563 [==============================] - 6s 4ms/step - loss: 1.0900 - accuracy: 0.6192 - val_loss: 1.1036 - val_accuracy: 0.6144\n",
            "Epoch 10/20\n",
            "1563/1563 [==============================] - 6s 4ms/step - loss: 1.0504 - accuracy: 0.6311 - val_loss: 1.0871 - val_accuracy: 0.6196\n",
            "Epoch 11/20\n",
            "1563/1563 [==============================] - 6s 4ms/step - loss: 1.0155 - accuracy: 0.6440 - val_loss: 1.1074 - val_accuracy: 0.6134\n",
            "Epoch 12/20\n",
            "1563/1563 [==============================] - 6s 4ms/step - loss: 0.9827 - accuracy: 0.6576 - val_loss: 1.1721 - val_accuracy: 0.5935\n",
            "Epoch 13/20\n",
            "1563/1563 [==============================] - 5s 3ms/step - loss: 0.9556 - accuracy: 0.6677 - val_loss: 1.0290 - val_accuracy: 0.6442\n",
            "Epoch 14/20\n",
            "1563/1563 [==============================] - 5s 3ms/step - loss: 0.9301 - accuracy: 0.6779 - val_loss: 1.0062 - val_accuracy: 0.6521\n",
            "Epoch 15/20\n",
            "1563/1563 [==============================] - 6s 4ms/step - loss: 0.9050 - accuracy: 0.6846 - val_loss: 1.1275 - val_accuracy: 0.6008\n",
            "Epoch 16/20\n",
            "1563/1563 [==============================] - 5s 3ms/step - loss: 0.8835 - accuracy: 0.6924 - val_loss: 0.9757 - val_accuracy: 0.6628\n",
            "Epoch 17/20\n",
            "1563/1563 [==============================] - 5s 3ms/step - loss: 0.8609 - accuracy: 0.7022 - val_loss: 1.0097 - val_accuracy: 0.6457\n",
            "Epoch 18/20\n",
            "1563/1563 [==============================] - 6s 4ms/step - loss: 0.8385 - accuracy: 0.7079 - val_loss: 1.0228 - val_accuracy: 0.6516\n",
            "Epoch 19/20\n",
            "1563/1563 [==============================] - 6s 4ms/step - loss: 0.8194 - accuracy: 0.7158 - val_loss: 0.9908 - val_accuracy: 0.6589\n",
            "Epoch 20/20\n",
            "1563/1563 [==============================] - 6s 4ms/step - loss: 0.8014 - accuracy: 0.7223 - val_loss: 0.9692 - val_accuracy: 0.6714\n"
          ],
          "name": "stdout"
        },
        {
          "output_type": "display_data",
          "data": {
            "image/png": "[encoded data removed]",
            "text/plain": [
              "<Figure size 432x288 with 1 Axes>"
            ]
          },
          "metadata": {
            "tags": [],
            "needs_background": "light"
          }
        }
      ]
    },
    {
      "cell_type": "markdown",
      "metadata": {
        "id": "7A0OQkxz4PEX"
      },
      "source": [
        "Finally, pick a better optimizer. And re-train your model. You'll know you have a reasonable model with a reasonable loss funciton and optimizer if your final training accuracy ends up in the 80s (or possibly higher).\n",
        "\n",
        "*A hint: your model may want to learn adaptively.*"
      ]
    },
    {
      "cell_type": "code",
      "metadata": {
        "id": "zQhCRxZs4PEX",
        "outputId": "abf41118-6fac-4210-f088-e53eb5e8f150",
        "colab": {
          "base_uri": "https://localhost:8080/",
          "height": 990
        }
      },
      "source": [
        "OPTIMIZER = 'adam'\n",
        "\n",
        "# Compile the model\n",
        "model.compile(optimizer=OPTIMIZER,\n",
        "              loss=LOSS,\n",
        "              metrics=['accuracy'])\n",
        "\n",
        "# Fit the model\n",
        "history = model.fit(train_images, train_labels, epochs=NUM_EPOCHS, \n",
        "                    validation_data=(test_images, test_labels))\n",
        "\n",
        "# summarize history for accuracy\n",
        "plt.plot(history.history['accuracy'])\n",
        "plt.plot(history.history['val_accuracy'])\n",
        "plt.title('model accuracy')\n",
        "plt.ylabel('accuracy')\n",
        "plt.xlabel('epoch')\n",
        "plt.legend(['train', 'test'], loc='upper left')\n",
        "plt.xlim([0,NUM_EPOCHS])\n",
        "plt.ylim([0.4,1.0])\n",
        "plt.show()"
      ],
      "execution_count": 5,
      "outputs": [
        {
          "output_type": "stream",
          "text": [
            "Epoch 1/20\n",
            "1563/1563 [==============================] - 6s 4ms/step - loss: 0.9211 - accuracy: 0.6785 - val_loss: 0.9500 - val_accuracy: 0.6735\n",
            "Epoch 2/20\n",
            "1563/1563 [==============================] - 6s 4ms/step - loss: 0.8304 - accuracy: 0.7094 - val_loss: 0.9163 - val_accuracy: 0.6870\n",
            "Epoch 3/20\n",
            "1563/1563 [==============================] - 6s 4ms/step - loss: 0.7650 - accuracy: 0.7335 - val_loss: 0.9086 - val_accuracy: 0.6868\n",
            "Epoch 4/20\n",
            "1563/1563 [==============================] - 6s 4ms/step - loss: 0.7029 - accuracy: 0.7548 - val_loss: 0.8891 - val_accuracy: 0.6993\n",
            "Epoch 5/20\n",
            "1563/1563 [==============================] - 6s 4ms/step - loss: 0.6601 - accuracy: 0.7692 - val_loss: 0.9246 - val_accuracy: 0.6939\n",
            "Epoch 6/20\n",
            "1563/1563 [==============================] - 6s 4ms/step - loss: 0.6142 - accuracy: 0.7877 - val_loss: 0.8963 - val_accuracy: 0.6992\n",
            "Epoch 7/20\n",
            "1563/1563 [==============================] - 6s 4ms/step - loss: 0.5788 - accuracy: 0.7981 - val_loss: 0.9666 - val_accuracy: 0.6831\n",
            "Epoch 8/20\n",
            "1563/1563 [==============================] - 6s 4ms/step - loss: 0.5411 - accuracy: 0.8107 - val_loss: 0.9340 - val_accuracy: 0.7047\n",
            "Epoch 9/20\n",
            "1563/1563 [==============================] - 6s 4ms/step - loss: 0.5074 - accuracy: 0.8197 - val_loss: 1.0133 - val_accuracy: 0.6928\n",
            "Epoch 10/20\n",
            "1563/1563 [==============================] - 6s 4ms/step - loss: 0.4837 - accuracy: 0.8277 - val_loss: 1.0089 - val_accuracy: 0.6943\n",
            "Epoch 11/20\n",
            "1563/1563 [==============================] - 6s 4ms/step - loss: 0.4521 - accuracy: 0.8386 - val_loss: 1.0605 - val_accuracy: 0.6862\n",
            "Epoch 12/20\n",
            "1563/1563 [==============================] - 6s 4ms/step - loss: 0.4301 - accuracy: 0.8486 - val_loss: 1.1215 - val_accuracy: 0.6815\n",
            "Epoch 13/20\n",
            "1563/1563 [==============================] - 6s 4ms/step - loss: 0.4058 - accuracy: 0.8561 - val_loss: 1.1238 - val_accuracy: 0.6842\n",
            "Epoch 14/20\n",
            "1563/1563 [==============================] - 6s 4ms/step - loss: 0.3868 - accuracy: 0.8628 - val_loss: 1.1284 - val_accuracy: 0.6874\n",
            "Epoch 15/20\n",
            "1563/1563 [==============================] - 6s 4ms/step - loss: 0.3659 - accuracy: 0.8691 - val_loss: 1.1801 - val_accuracy: 0.6933\n",
            "Epoch 16/20\n",
            "1563/1563 [==============================] - 6s 4ms/step - loss: 0.3445 - accuracy: 0.8760 - val_loss: 1.2170 - val_accuracy: 0.6939\n",
            "Epoch 17/20\n",
            "1563/1563 [==============================] - 6s 4ms/step - loss: 0.3279 - accuracy: 0.8834 - val_loss: 1.2783 - val_accuracy: 0.6896\n",
            "Epoch 18/20\n",
            "1563/1563 [==============================] - 6s 4ms/step - loss: 0.3105 - accuracy: 0.8888 - val_loss: 1.2978 - val_accuracy: 0.6892\n",
            "Epoch 19/20\n",
            "1563/1563 [==============================] - 6s 4ms/step - loss: 0.3013 - accuracy: 0.8922 - val_loss: 1.4906 - val_accuracy: 0.6713\n",
            "Epoch 20/20\n",
            "1563/1563 [==============================] - 6s 4ms/step - loss: 0.2765 - accuracy: 0.9005 - val_loss: 1.4044 - val_accuracy: 0.6917\n"
          ],
          "name": "stdout"
        },
        {
          "output_type": "display_data",
          "data": {
            "image/png": "[encoded data removed]",
            "text/plain": [
              "<Figure size 432x288 with 1 Axes>"
            ]
          },
          "metadata": {
            "tags": [],
            "needs_background": "light"
          }
        }
      ]
    }
  ]
}