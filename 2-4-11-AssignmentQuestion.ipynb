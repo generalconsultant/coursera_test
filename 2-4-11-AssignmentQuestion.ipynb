{
  "nbformat": 4,
  "nbformat_minor": 0,
  "metadata": {
    "accelerator": "GPU",
    "colab": {
      "name": "2-4-11-Question.ipynb",
      "provenance": [],
      "include_colab_link": true
    },
    "kernelspec": {
      "display_name": "Python 3",
      "language": "python",
      "name": "python3"
    },
    "language_info": {
      "codemirror_mode": {
        "name": "ipython",
        "version": 3
      },
      "file_extension": ".py",
      "mimetype": "text/x-python",
      "name": "python",
      "nbconvert_exporter": "python",
      "pygments_lexer": "ipython3",
      "version": "3.6.9"
    }
  },
  "cells": [
    {
      "cell_type": "markdown",
      "metadata": {
        "id": "view-in-github",
        "colab_type": "text"
      },
      "source": [
        "<a href=\"https://colab.research.google.com/github/generalconsultant/coursera_test/blob/master/2-4-11-AssignmentQuestion.ipynb\" target=\"_parent\"><img src=\"https://colab.research.google.com/assets/colab-badge.svg\" alt=\"Open In Colab\"/></a>"
      ]
    },
    {
      "cell_type": "markdown",
      "metadata": {
        "id": "ktqTCGHJw-ws"
      },
      "source": [
        "# Bean Disease Classifier\n",
        "For this assignment you'll take what you've learned so far and build a classifier for bean disease. You'll be provided with training and validation data based on 224x224 pixel color images taken of bean plants in Uganda. These images show healthy bean leaves as well as 2 types of common disease: bean rust and angular leaf spots. Your job will be to build a neural network that can tell the difference between the healthy and diseased leaves.\n",
        "\n",
        "We start by setting up the problem for you."
      ]
    },
    {
      "cell_type": "code",
      "metadata": {
        "id": "wmnkg6vGbX1t"
      },
      "source": [
        "# Do not change this code\n",
        "try:\n",
        "  # %tensorflow_version only exists in Colab.\n",
        "  %tensorflow_version 2.x\n",
        "except Exception:\n",
        "  pass"
      ],
      "execution_count": 1,
      "outputs": []
    },
    {
      "cell_type": "code",
      "metadata": {
        "id": "njf4YhwFb6hW",
        "outputId": "8e7eefcc-ab03-4a88-8f1d-3ed068d141dd",
        "colab": {
          "base_uri": "https://localhost:8080/"
        }
      },
      "source": [
        "# Do not change this code\n",
        "!wget --no-check-certificate \\\n",
        "    https://storage.googleapis.com/ibeans/train.zip \\\n",
        "    -O /tmp/train.zip\n",
        "\n",
        "!wget --no-check-certificate \\\n",
        "    https://storage.googleapis.com/ibeans/validation.zip \\\n",
        "    -O /tmp/validation.zip\n",
        "\n",
        "!wget --no-check-certificate \\\n",
        "    https://storage.googleapis.com/ibeans/test.zip \\\n",
        "    -O /tmp/test.zip"
      ],
      "execution_count": 2,
      "outputs": [
        {
          "output_type": "stream",
          "text": [
            "--2021-08-07 21:41:42--  https://storage.googleapis.com/ibeans/train.zip\n",
            "Resolving storage.googleapis.com (storage.googleapis.com)... 142.250.141.128, 142.251.2.128, 74.125.137.128, ...\n",
            "Connecting to storage.googleapis.com (storage.googleapis.com)|142.250.141.128|:443... connected.\n",
            "HTTP request sent, awaiting response... 200 OK\n",
            "Length: 143812152 (137M) [application/zip]\n",
            "Saving to: ‘/tmp/train.zip’\n",
            "\n",
            "/tmp/train.zip      100%[===================>] 137.15M   185MB/s    in 0.7s    \n",
            "\n",
            "2021-08-07 21:41:43 (185 MB/s) - ‘/tmp/train.zip’ saved [143812152/143812152]\n",
            "\n",
            "--2021-08-07 21:41:43--  https://storage.googleapis.com/ibeans/validation.zip\n",
            "Resolving storage.googleapis.com (storage.googleapis.com)... 142.250.141.128, 142.251.2.128, 142.250.101.128, ...\n",
            "Connecting to storage.googleapis.com (storage.googleapis.com)|142.250.141.128|:443... connected.\n",
            "HTTP request sent, awaiting response... 200 OK\n",
            "Length: 18504213 (18M) [application/zip]\n",
            "Saving to: ‘/tmp/validation.zip’\n",
            "\n",
            "/tmp/validation.zip 100%[===================>]  17.65M  27.4MB/s    in 0.6s    \n",
            "\n",
            "2021-08-07 21:41:45 (27.4 MB/s) - ‘/tmp/validation.zip’ saved [18504213/18504213]\n",
            "\n",
            "--2021-08-07 21:41:45--  https://storage.googleapis.com/ibeans/test.zip\n",
            "Resolving storage.googleapis.com (storage.googleapis.com)... 142.250.141.128, 142.251.2.128, 2607:f8b0:4023:c0b::80, ...\n",
            "Connecting to storage.googleapis.com (storage.googleapis.com)|142.250.141.128|:443... connected.\n",
            "HTTP request sent, awaiting response... 200 OK\n",
            "Length: 17708541 (17M) [application/zip]\n",
            "Saving to: ‘/tmp/test.zip’\n",
            "\n",
            "/tmp/test.zip       100%[===================>]  16.89M  71.6MB/s    in 0.2s    \n",
            "\n",
            "2021-08-07 21:41:45 (71.6 MB/s) - ‘/tmp/test.zip’ saved [17708541/17708541]\n",
            "\n"
          ],
          "name": "stdout"
        }
      ]
    },
    {
      "cell_type": "code",
      "metadata": {
        "id": "KscpTrSWcK1T"
      },
      "source": [
        "# Do not change this code\n",
        "import os\n",
        "import zipfile\n",
        "\n",
        "local_zip = '/tmp/train.zip'\n",
        "zip_ref = zipfile.ZipFile(local_zip, 'r')\n",
        "zip_ref.extractall('/tmp')\n",
        "local_zip = '/tmp/validation.zip'\n",
        "zip_ref = zipfile.ZipFile(local_zip, 'r')\n",
        "zip_ref.extractall('/tmp')\n",
        "local_zip = '/tmp/test.zip'\n",
        "zip_ref = zipfile.ZipFile(local_zip, 'r')\n",
        "zip_ref.extractall('/tmp/test')\n",
        "zip_ref.close()"
      ],
      "execution_count": 3,
      "outputs": []
    },
    {
      "cell_type": "markdown",
      "metadata": {
        "id": "SeuCKXGyibF3"
      },
      "source": [
        "Now you need to define a generator to process the data we have loaded in Colab so that our model can use it for training. As we showed in the previous video you'll first have to define an ```ImageDataGenerator``` and then flow the data into it.\n",
        "\n",
        "*A hint: You don't want abnormal data!*"
      ]
    },
    {
      "cell_type": "code",
      "metadata": {
        "id": "jCiSd248caB4",
        "outputId": "0debd122-cc71-4ebf-ae9d-df0e572c76d5",
        "colab": {
          "base_uri": "https://localhost:8080/"
        }
      },
      "source": [
        "from tensorflow.keras.preprocessing.image import ImageDataGenerator\n",
        "\n",
        "train_datagen = ImageDataGenerator(\n",
        "      rescale=1./255,\n",
        "      rotation_range=20,\n",
        "      width_shift_range=0.2,\n",
        "      height_shift_range=0.2,\n",
        "      shear_range=0.2,\n",
        "      zoom_range=0.2,\n",
        "      horizontal_flip=True,\n",
        "      fill_mode='nearest'\n",
        ")\n",
        "\n",
        "validation_datagen = ImageDataGenerator(\n",
        "     rescale=1./255\n",
        ")\n",
        "\n",
        "TRAIN_DIRECTORY_LOCATION = '/tmp/train/'\n",
        "VAL_DIRECTORY_LOCATION = '/tmp/validation'\n",
        "TARGET_SIZE = (224, 224)\n",
        "CLASS_MODE = 'categorical'\n",
        "\n",
        "train_generator = train_datagen.flow_from_directory(\n",
        "    TRAIN_DIRECTORY_LOCATION,\n",
        "    target_size = TARGET_SIZE,  \n",
        "    batch_size = 128,\n",
        "    class_mode = CLASS_MODE\n",
        ")\n",
        "\n",
        "validation_generator = validation_datagen.flow_from_directory(\n",
        "    VAL_DIRECTORY_LOCATION,\n",
        "    target_size = TARGET_SIZE,  \n",
        "    batch_size = 128,\n",
        "    class_mode = CLASS_MODE\n",
        ")"
      ],
      "execution_count": 10,
      "outputs": [
        {
          "output_type": "stream",
          "text": [
            "Found 1034 images belonging to 3 classes.\n",
            "Found 133 images belonging to 3 classes.\n"
          ],
          "name": "stdout"
        }
      ]
    },
    {
      "cell_type": "markdown",
      "metadata": {
        "id": "DK308G6VibF5"
      },
      "source": [
        "Now its your turn to define a model to learn this data. \n",
        "\n",
        "*A hint: Like with the CIFAR-10 assignment, your model may want to learn some high level features and then classify them. This time it may help to make the model a little wider at times.*"
      ]
    },
    {
      "cell_type": "code",
      "metadata": {
        "id": "vrJt6YSDcqjX",
        "outputId": "f0f19b0f-160e-4ad0-ef02-7ba714f90a9a",
        "colab": {
          "base_uri": "https://localhost:8080/"
        }
      },
      "source": [
        "import tensorflow as tf\n",
        "model = tf.keras.models.Sequential([\n",
        "        # Note the input shape is the desired size of the image 100x100 with 3 bytes color\n",
        "    # This is the first convolution\n",
        "    tf.keras.layers.Conv2D(16, (3,3), activation='relu', input_shape=(224, 224, 3)),\n",
        "    tf.keras.layers.MaxPooling2D(2, 2),\n",
        "    # The second convolution\n",
        "    tf.keras.layers.Conv2D(32, (3,3), activation='relu'),\n",
        "    tf.keras.layers.MaxPooling2D(2,2),\n",
        "    # The third convolution\n",
        "    tf.keras.layers.Conv2D(64, (3,3), activation='relu'),\n",
        "    tf.keras.layers.MaxPooling2D(2,2),\n",
        "    # The fourth convolution\n",
        "    tf.keras.layers.Conv2D(128, (3,3), activation='relu'),\n",
        "    tf.keras.layers.MaxPooling2D(2,2),\n",
        "    # Flatten the results to feed into a DNN\n",
        "    tf.keras.layers.Flatten(),\n",
        "    # 512 neuron hidden layer\n",
        "    tf.keras.layers.Dense(512, activation='relu'),\n",
        "    # Only 1 output neuron. It will contain a value from 0-1 where 0 for 1 class ('horses') and 1 for the other ('humans')\n",
        "    tf.keras.layers.Dense(3, activation='softmax')\n",
        "])\n",
        "\n",
        "# This will print a summary of your model when you're done!\n",
        "model.summary()"
      ],
      "execution_count": 11,
      "outputs": [
        {
          "output_type": "stream",
          "text": [
            "Model: \"sequential_1\"\n",
            "_________________________________________________________________\n",
            "Layer (type)                 Output Shape              Param #   \n",
            "=================================================================\n",
            "conv2d_4 (Conv2D)            (None, 222, 222, 16)      448       \n",
            "_________________________________________________________________\n",
            "max_pooling2d_4 (MaxPooling2 (None, 111, 111, 16)      0         \n",
            "_________________________________________________________________\n",
            "conv2d_5 (Conv2D)            (None, 109, 109, 32)      4640      \n",
            "_________________________________________________________________\n",
            "max_pooling2d_5 (MaxPooling2 (None, 54, 54, 32)        0         \n",
            "_________________________________________________________________\n",
            "conv2d_6 (Conv2D)            (None, 52, 52, 64)        18496     \n",
            "_________________________________________________________________\n",
            "max_pooling2d_6 (MaxPooling2 (None, 26, 26, 64)        0         \n",
            "_________________________________________________________________\n",
            "conv2d_7 (Conv2D)            (None, 24, 24, 128)       73856     \n",
            "_________________________________________________________________\n",
            "max_pooling2d_7 (MaxPooling2 (None, 12, 12, 128)       0         \n",
            "_________________________________________________________________\n",
            "flatten_1 (Flatten)          (None, 18432)             0         \n",
            "_________________________________________________________________\n",
            "dense_3 (Dense)              (None, 512)               9437696   \n",
            "_________________________________________________________________\n",
            "dense_4 (Dense)              (None, 3)                 1539      \n",
            "=================================================================\n",
            "Total params: 9,536,675\n",
            "Trainable params: 9,536,675\n",
            "Non-trainable params: 0\n",
            "_________________________________________________________________\n"
          ],
          "name": "stdout"
        }
      ]
    },
    {
      "cell_type": "markdown",
      "metadata": {
        "id": "OzKqhZqOibF8"
      },
      "source": [
        "Then you'll need to pick an appropriate loss function and optimizer.\n",
        "\n",
        "*A hint: remember we are classifying again.*"
      ]
    },
    {
      "cell_type": "code",
      "metadata": {
        "id": "nST6CyvCcy-2",
        "outputId": "f3feba67-2081-449f-d157-be89e2a01c0c",
        "colab": {
          "base_uri": "https://localhost:8080/"
        }
      },
      "source": [
        "from tensorflow.keras.optimizers import RMSprop\n",
        "LOSS_FUNCTION = 'categorical_crossentropy'\n",
        "OPTIMIZER = tf.keras.optimizers.Adam(lr=0.0001)\n",
        "\n",
        "model.compile(\n",
        "    loss = LOSS_FUNCTION,\n",
        "    optimizer = OPTIMIZER,\n",
        "    metrics = ['accuracy']\n",
        ")"
      ],
      "execution_count": 12,
      "outputs": [
        {
          "output_type": "stream",
          "text": [
            "/usr/local/lib/python3.7/dist-packages/tensorflow/python/keras/optimizer_v2/optimizer_v2.py:375: UserWarning: The `lr` argument is deprecated, use `learning_rate` instead.\n",
            "  \"The `lr` argument is deprecated, use `learning_rate` instead.\")\n"
          ],
          "name": "stderr"
        }
      ]
    },
    {
      "cell_type": "markdown",
      "metadata": {
        "id": "jQpMqs9LibF-"
      },
      "source": [
        "Finally select the number of epochs you'd like to train for and train your model!\n",
        "\n",
        "*A hint: something in the low tens is a good place to start*"
      ]
    },
    {
      "cell_type": "code",
      "metadata": {
        "id": "Q3iK9LX9deu2",
        "outputId": "8a6258f7-4df5-4d2a-c0bb-4aee98370f43",
        "colab": {
          "base_uri": "https://localhost:8080/",
          "height": 995
        }
      },
      "source": [
        "NUM_EPOCHS = 20\n",
        "\n",
        "history = model.fit(\n",
        "      train_generator, \n",
        "      epochs = NUM_EPOCHS,\n",
        "      verbose = 1,\n",
        "      validation_data = validation_generator)\n",
        "\n",
        "# summarize history for accuracy\n",
        "import matplotlib.pyplot as plt\n",
        "plt.plot(history.history['accuracy'])\n",
        "plt.plot(history.history['val_accuracy'])\n",
        "plt.title('model accuracy')\n",
        "plt.ylabel('accuracy')\n",
        "plt.xlabel('epoch')\n",
        "plt.legend(['train', 'test'], loc='upper left')\n",
        "plt.xlim([0,NUM_EPOCHS])\n",
        "plt.ylim([0.4,1.0])\n",
        "plt.show()"
      ],
      "execution_count": 13,
      "outputs": [
        {
          "output_type": "stream",
          "text": [
            "Epoch 1/20\n",
            "9/9 [==============================] - 19s 2s/step - loss: 1.0863 - accuracy: 0.3868 - val_loss: 1.0814 - val_accuracy: 0.3383\n",
            "Epoch 2/20\n",
            "9/9 [==============================] - 16s 2s/step - loss: 1.0525 - accuracy: 0.4197 - val_loss: 0.9975 - val_accuracy: 0.4737\n",
            "Epoch 3/20\n",
            "9/9 [==============================] - 15s 2s/step - loss: 1.0048 - accuracy: 0.5039 - val_loss: 0.9481 - val_accuracy: 0.5639\n",
            "Epoch 4/20\n",
            "9/9 [==============================] - 16s 2s/step - loss: 0.9464 - accuracy: 0.5464 - val_loss: 0.8527 - val_accuracy: 0.6316\n",
            "Epoch 5/20\n",
            "9/9 [==============================] - 17s 2s/step - loss: 0.8883 - accuracy: 0.6064 - val_loss: 0.8155 - val_accuracy: 0.6541\n",
            "Epoch 6/20\n",
            "9/9 [==============================] - 16s 2s/step - loss: 0.8663 - accuracy: 0.6161 - val_loss: 0.7883 - val_accuracy: 0.6466\n",
            "Epoch 7/20\n",
            "9/9 [==============================] - 15s 2s/step - loss: 0.8449 - accuracy: 0.6364 - val_loss: 0.7494 - val_accuracy: 0.6391\n",
            "Epoch 8/20\n",
            "9/9 [==============================] - 16s 2s/step - loss: 0.8094 - accuracy: 0.6489 - val_loss: 0.7696 - val_accuracy: 0.6391\n",
            "Epoch 9/20\n",
            "9/9 [==============================] - 17s 2s/step - loss: 0.7931 - accuracy: 0.6576 - val_loss: 0.6995 - val_accuracy: 0.6617\n",
            "Epoch 10/20\n",
            "9/9 [==============================] - 16s 2s/step - loss: 0.7687 - accuracy: 0.6779 - val_loss: 0.6881 - val_accuracy: 0.7293\n",
            "Epoch 11/20\n",
            "9/9 [==============================] - 15s 2s/step - loss: 0.7272 - accuracy: 0.7021 - val_loss: 0.6735 - val_accuracy: 0.7519\n",
            "Epoch 12/20\n",
            "9/9 [==============================] - 16s 2s/step - loss: 0.7361 - accuracy: 0.6876 - val_loss: 0.6929 - val_accuracy: 0.7368\n",
            "Epoch 13/20\n",
            "9/9 [==============================] - 16s 2s/step - loss: 0.7238 - accuracy: 0.6799 - val_loss: 0.7561 - val_accuracy: 0.6767\n",
            "Epoch 14/20\n",
            "9/9 [==============================] - 16s 2s/step - loss: 0.7207 - accuracy: 0.6944 - val_loss: 0.7324 - val_accuracy: 0.6692\n",
            "Epoch 15/20\n",
            "9/9 [==============================] - 17s 2s/step - loss: 0.7064 - accuracy: 0.6934 - val_loss: 0.7112 - val_accuracy: 0.6692\n",
            "Epoch 16/20\n",
            "9/9 [==============================] - 16s 2s/step - loss: 0.7940 - accuracy: 0.6509 - val_loss: 0.7421 - val_accuracy: 0.6241\n",
            "Epoch 17/20\n",
            "9/9 [==============================] - 15s 2s/step - loss: 0.7103 - accuracy: 0.6915 - val_loss: 0.6701 - val_accuracy: 0.7218\n",
            "Epoch 18/20\n",
            "9/9 [==============================] - 16s 2s/step - loss: 0.7053 - accuracy: 0.6857 - val_loss: 0.5936 - val_accuracy: 0.7744\n",
            "Epoch 19/20\n",
            "9/9 [==============================] - 17s 2s/step - loss: 0.6727 - accuracy: 0.7147 - val_loss: 0.5923 - val_accuracy: 0.7669\n",
            "Epoch 20/20\n",
            "9/9 [==============================] - 16s 2s/step - loss: 0.6657 - accuracy: 0.7157 - val_loss: 0.6356 - val_accuracy: 0.7293\n"
          ],
          "name": "stdout"
        },
        {
          "output_type": "display_data",
          "data": {
            "image/png": "[encoded data removed]",
            "text/plain": [
              "<Figure size 432x288 with 1 Axes>"
            ]
          },
          "metadata": {
            "tags": [],
            "needs_background": "light"
          }
        }
      ]
    }
  ]
}